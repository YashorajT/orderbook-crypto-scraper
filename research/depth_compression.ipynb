{
 "cells": [
  {
   "cell_type": "code",
   "execution_count": 1,
   "metadata": {},
   "outputs": [],
   "source": [
    "import krakenex\n",
    "import pandas as pd\n",
    "import matplotlib.pyplot as plt\n",
    "from requests.exceptions import HTTPError"
   ]
  },
  {
   "cell_type": "code",
   "execution_count": 25,
   "metadata": {},
   "outputs": [],
   "source": [
    "kraken = krakenex.API()"
   ]
  },
  {
   "cell_type": "code",
   "execution_count": 154,
   "metadata": {},
   "outputs": [],
   "source": [
    "def get_order_book(pair, count):\n",
    "    \"\"\"Queries the kraken order book.\n",
    "\n",
    "    Parameters\n",
    "    ----------\n",
    "    pair : str \n",
    "        Asset pair to get market depth for.\n",
    "    count : int \n",
    "        Maximum number of asks/bids\n",
    "    df : bool\n",
    "        Weather to return order book as dataframe (optional).\n",
    "\n",
    "    Returns\n",
    "    -------\n",
    "    dict\n",
    "        asks : list\n",
    "            Ask side array of (<price>, <volume>, <timestamp>).\n",
    "        bids : list \n",
    "            Bid side array of (<price>, <volume>, <timestamp>).\n",
    "    \"\"\"\n",
    "    \n",
    "    try:\n",
    "        response = kraken.query_public('Depth', {'pair': pair, 'count': count})\n",
    "    except HTTPError as e:\n",
    "        print(\"ERROR: Failed getting order book data for pair={}\".format(pair))\n",
    "    \n",
    "    obook = response.get('result', {}).get(pair)\n",
    "    if not obook:\n",
    "        print(\"WARNING: Empty response.\")\n",
    "    else:\n",
    "        asks = [limorder + ['ask'] for limorder in obook['asks']]\n",
    "        bids = [limorder + ['bid'] for limorder in obook['bids']]\n",
    "        tabular = asks + bids\n",
    "        obook = pd.DataFrame(tabular, columns=['price', 'volume', 'timestamp', 'type'])            \n",
    "        obook = obook.apply(pd.to_numeric, errors='ignore')\n",
    "        obook['cumvolume'] = obook[['type', 'volume']].groupby('type').cumsum()  # assumes rows are sorted\n",
    "        \n",
    "    return obook\n",
    "\n",
    "\n",
    "def plot_order_book(ob):\n",
    "    \"\"\"Plots the cumulative volume and order distribution of the order book.\n",
    "    \n",
    "    Paramaters\n",
    "    ----------\n",
    "    ob : dataframe\n",
    "        Order book data frame with columns type, price, volume, cumvolume.\n",
    "    \"\"\"\n",
    "    \n",
    "    # extract data series from df\n",
    "    ask_prices = ob.loc[ob['type'] == 'ask', 'price']\n",
    "    ask_volumes = ob.loc[ob['type'] == 'ask', 'volume']\n",
    "    ask_cumvolumes = ob.loc[ob['type'] == 'ask', 'cumvolume']\n",
    "    bid_prices = ob.loc[ob['type'] == 'bid', 'price']\n",
    "    bid_volumes = ob.loc[ob['type'] == 'bid', 'volume']\n",
    "    bid_cumvolumes = ob.loc[ob['type'] == 'bid', 'cumvolume']\n",
    "    \n",
    "    # plot cum vol plot\n",
    "    fig, ax = plt.subplots(2, 1, sharex='col', figsize=(16, 10))\n",
    "    ax[0].fill_between(bid_prices, bid_cumvolumes, facecolor='maroon', edgecolor='k', alpha=0.7, zorder=10, label='bids')\n",
    "    ax[0].fill_between(ask_prices, ask_cumvolumes, facecolor='dimgrey', edgecolor='k', alpha=0.7, zorder=10, label='asks')\n",
    "    ax[0].set_xlim([min(bid_prices.min(), ask_prices.min()), max(bid_prices.max(), ask_prices.max())])\n",
    "    ax[0].set_ylim([0, 1.05* max(bid_cumvolumes.max(), ask_cumvolumes.max())])\n",
    "    ax[0].set_ylabel('Cumulative Volume')\n",
    "    ax[0].legend(loc='upper center', facecolor='white', framealpha=1, frameon=False)\n",
    "    \n",
    "    # plot order distribution\n",
    "    ax[1].stem(bid_prices, bid_volumes, 'maroon', markerfmt=' ', label='bids')\n",
    "    ax[1].stem(ask_prices, ask_volumes, 'k', markerfmt=' ', label='asks')\n",
    "    ax[1].set_ylim([0, 1.05* max(bid_volumes.max(), ask_volumes.max())])\n",
    "    ax[1].set_xlabel('Price')\n",
    "    ax[1].set_ylabel('Volume')\n",
    "    \n",
    "    plt.show()"
   ]
  },
  {
   "cell_type": "code",
   "execution_count": 155,
   "metadata": {},
   "outputs": [
    {
     "data": {
      "text/html": [
       "<div>\n",
       "<style scoped>\n",
       "    .dataframe tbody tr th:only-of-type {\n",
       "        vertical-align: middle;\n",
       "    }\n",
       "\n",
       "    .dataframe tbody tr th {\n",
       "        vertical-align: top;\n",
       "    }\n",
       "\n",
       "    .dataframe thead th {\n",
       "        text-align: right;\n",
       "    }\n",
       "</style>\n",
       "<table border=\"1\" class=\"dataframe\">\n",
       "  <thead>\n",
       "    <tr style=\"text-align: right;\">\n",
       "      <th></th>\n",
       "      <th>price</th>\n",
       "      <th>volume</th>\n",
       "      <th>timestamp</th>\n",
       "      <th>type</th>\n",
       "      <th>cumvolume</th>\n",
       "    </tr>\n",
       "  </thead>\n",
       "  <tbody>\n",
       "    <tr>\n",
       "      <th>0</th>\n",
       "      <td>0.27770</td>\n",
       "      <td>331.619</td>\n",
       "      <td>1552264394</td>\n",
       "      <td>ask</td>\n",
       "      <td>331.619</td>\n",
       "    </tr>\n",
       "    <tr>\n",
       "      <th>1</th>\n",
       "      <td>0.27779</td>\n",
       "      <td>2724.105</td>\n",
       "      <td>1552264390</td>\n",
       "      <td>ask</td>\n",
       "      <td>3055.724</td>\n",
       "    </tr>\n",
       "    <tr>\n",
       "      <th>2</th>\n",
       "      <td>0.27780</td>\n",
       "      <td>3602.698</td>\n",
       "      <td>1552264347</td>\n",
       "      <td>ask</td>\n",
       "      <td>6658.422</td>\n",
       "    </tr>\n",
       "    <tr>\n",
       "      <th>3</th>\n",
       "      <td>0.27786</td>\n",
       "      <td>2056.326</td>\n",
       "      <td>1552264372</td>\n",
       "      <td>ask</td>\n",
       "      <td>8714.748</td>\n",
       "    </tr>\n",
       "    <tr>\n",
       "      <th>4</th>\n",
       "      <td>0.27789</td>\n",
       "      <td>1777.260</td>\n",
       "      <td>1552264394</td>\n",
       "      <td>ask</td>\n",
       "      <td>10492.008</td>\n",
       "    </tr>\n",
       "  </tbody>\n",
       "</table>\n",
       "</div>"
      ],
      "text/plain": [
       "     price    volume   timestamp type  cumvolume\n",
       "0  0.27770   331.619  1552264394  ask    331.619\n",
       "1  0.27779  2724.105  1552264390  ask   3055.724\n",
       "2  0.27780  3602.698  1552264347  ask   6658.422\n",
       "3  0.27786  2056.326  1552264372  ask   8714.748\n",
       "4  0.27789  1777.260  1552264394  ask  10492.008"
      ]
     },
     "execution_count": 155,
     "metadata": {},
     "output_type": "execute_result"
    }
   ],
   "source": [
    "ob = get_order_book('XXRPZEUR', 100)\n",
    "ob.head()"
   ]
  },
  {
   "cell_type": "code",
   "execution_count": 156,
   "metadata": {},
   "outputs": [
    {
     "data": {
      "image/png": "[encoded data removed]",
      "text/plain": [
       "<Figure size 1152x720 with 2 Axes>"
      ]
     },
     "metadata": {
      "needs_background": "light"
     },
     "output_type": "display_data"
    }
   ],
   "source": [
    "plot_order_book(ob)"
   ]
  },
  {
   "cell_type": "code",
   "execution_count": null,
   "metadata": {},
   "outputs": [],
   "source": []
  },
  {
   "cell_type": "code",
   "execution_count": null,
   "metadata": {},
   "outputs": [],
   "source": []
  }
 ],
 "metadata": {
  "kernelspec": {
   "display_name": "Python 3",
   "language": "python",
   "name": "python3"
  },
  "language_info": {
   "codemirror_mode": {
    "name": "ipython",
    "version": 3
   },
   "file_extension": ".py",
   "mimetype": "text/x-python",
   "name": "python",
   "nbconvert_exporter": "python",
   "pygments_lexer": "ipython3",
   "version": "3.6.8"
  }
 },
 "nbformat": 4,
 "nbformat_minor": 2
}
