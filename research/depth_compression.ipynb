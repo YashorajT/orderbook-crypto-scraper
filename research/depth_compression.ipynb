{
 "cells": [
  {
   "cell_type": "code",
   "execution_count": 2,
   "metadata": {},
   "outputs": [],
   "source": [
    "import krakenex\n",
    "from requests.exceptions import HTTPError\n",
    "import pprint"
   ]
  },
  {
   "cell_type": "code",
   "execution_count": 3,
   "metadata": {},
   "outputs": [],
   "source": [
    "kraken = krakenex.API()"
   ]
  },
  {
   "cell_type": "code",
   "execution_count": 28,
   "metadata": {},
   "outputs": [],
   "source": [
    "def get_order_book(pair, count):\n",
    "    \"\"\"Queries the kraken order book.\n",
    "\n",
    "    Parameters\n",
    "    ----------\n",
    "    pair : str \n",
    "        Asset pair to get market depth for.\n",
    "    count : int \n",
    "        Maximum number of asks/bids\n",
    "\n",
    "    Returns\n",
    "    -------\n",
    "    dict\n",
    "        asks : list\n",
    "            Ask side array of (<price>, <volume>, <timestamp>).\n",
    "        bids : list \n",
    "            Bid side array of (<price>, <volume>, <timestamp>).\n",
    "    \"\"\"\n",
    "    \n",
    "    try:\n",
    "        response = kraken.query_public('Depth', {'pair': ['XXBTZUSD', 'XXRPZEUR'], 'count': '5'})\n",
    "    except HTTPError as e:\n",
    "        print(\"ERROR: Failed getting order book data for pair={}\".format(pair))\n",
    "    \n",
    "    obook = response.get('result', {}).get(pair)\n",
    "    if not obook:\n",
    "        print(\"WARNING: Empty response.\")\n",
    "\n",
    "    return obook"
   ]
  },
  {
   "cell_type": "code",
   "execution_count": 29,
   "metadata": {},
   "outputs": [
    {
     "data": {
      "text/plain": [
       "{'asks': [['0.27860000', '898.744', 1552255394],\n",
       "  ['0.27861000', '220.690', 1552255293],\n",
       "  ['0.27869000', '5509.644', 1552255346],\n",
       "  ['0.27870000', '400.000', 1552255278],\n",
       "  ['0.27883000', '1300.018', 1552255357]],\n",
       " 'bids': [['0.27845000', '981.000', 1552255424],\n",
       "  ['0.27826000', '15000.964', 1552255425],\n",
       "  ['0.27823000', '25111.650', 1552255428],\n",
       "  ['0.27814000', '5026.560', 1552255425],\n",
       "  ['0.27813000', '3594.988', 1552255370]]}"
      ]
     },
     "execution_count": 29,
     "metadata": {},
     "output_type": "execute_result"
    }
   ],
   "source": [
    "get_order_book('XXRPZEUR', 30)"
   ]
  },
  {
   "cell_type": "code",
   "execution_count": null,
   "metadata": {},
   "outputs": [],
   "source": []
  }
 ],
 "metadata": {
  "kernelspec": {
   "display_name": "Python 3",
   "language": "python",
   "name": "python3"
  },
  "language_info": {
   "codemirror_mode": {
    "name": "ipython",
    "version": 3
   },
   "file_extension": ".py",
   "mimetype": "text/x-python",
   "name": "python",
   "nbconvert_exporter": "python",
   "pygments_lexer": "ipython3",
   "version": "3.6.8"
  }
 },
 "nbformat": 4,
 "nbformat_minor": 2
}
