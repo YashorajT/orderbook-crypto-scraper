{
 "cells": [
  {
   "cell_type": "code",
   "execution_count": 1,
   "metadata": {},
   "outputs": [],
   "source": [
    "import krakenex\n",
    "import pandas as pd\n",
    "import matplotlib.pyplot as plt\n",
    "from requests.exceptions import HTTPError"
   ]
  },
  {
   "cell_type": "code",
   "execution_count": 25,
   "metadata": {},
   "outputs": [],
   "source": [
    "kraken = krakenex.API()"
   ]
  },
  {
   "cell_type": "code",
   "execution_count": 52,
   "metadata": {},
   "outputs": [],
   "source": [
    "def get_order_book(pair, count):\n",
    "    \"\"\"Queries the kraken order book.\n",
    "\n",
    "    Parameters\n",
    "    ----------\n",
    "    pair : str \n",
    "        Asset pair to get market depth for.\n",
    "    count : int \n",
    "        Maximum number of asks/bids\n",
    "    df : bool\n",
    "        Weather to return order book as dataframe (optional).\n",
    "\n",
    "    Returns\n",
    "    -------\n",
    "    dict\n",
    "        asks : list\n",
    "            Ask side array of (<price>, <volume>, <timestamp>).\n",
    "        bids : list \n",
    "            Bid side array of (<price>, <volume>, <timestamp>).\n",
    "    \"\"\"\n",
    "    \n",
    "    try:\n",
    "        response = kraken.query_public('Depth', {'pair': pair, 'count': count})\n",
    "    except HTTPError as e:\n",
    "        print(\"ERROR: Failed getting order book data for pair={}\".format(pair))\n",
    "    \n",
    "    obook = response.get('result', {}).get(pair)\n",
    "    if not obook:\n",
    "        print(\"WARNING: Empty response.\")\n",
    "    else:\n",
    "        asks = [limorder + ['ask'] for limorder in obook['asks']]\n",
    "        bids = [limorder + ['bid'] for limorder in obook['bids']]\n",
    "        tabular = asks + bids\n",
    "        obook = pd.DataFrame(tabular, columns=['price', 'volume', 'timestamp', 'type'])            \n",
    "        obook = obook.apply(pd.to_numeric, errors='ignore')\n",
    "        obook['cumvolume'] = obook[['type', 'volume']].groupby('type').cumsum()  # assumes rows are sorted\n",
    "        \n",
    "    return obook"
   ]
  },
  {
   "cell_type": "code",
   "execution_count": 54,
   "metadata": {},
   "outputs": [
    {
     "data": {
      "text/html": [
       "<div>\n",
       "<style scoped>\n",
       "    .dataframe tbody tr th:only-of-type {\n",
       "        vertical-align: middle;\n",
       "    }\n",
       "\n",
       "    .dataframe tbody tr th {\n",
       "        vertical-align: top;\n",
       "    }\n",
       "\n",
       "    .dataframe thead th {\n",
       "        text-align: right;\n",
       "    }\n",
       "</style>\n",
       "<table border=\"1\" class=\"dataframe\">\n",
       "  <thead>\n",
       "    <tr style=\"text-align: right;\">\n",
       "      <th></th>\n",
       "      <th>price</th>\n",
       "      <th>volume</th>\n",
       "      <th>timestamp</th>\n",
       "      <th>type</th>\n",
       "      <th>cumvolume</th>\n",
       "    </tr>\n",
       "  </thead>\n",
       "  <tbody>\n",
       "    <tr>\n",
       "      <th>0</th>\n",
       "      <td>0.27776</td>\n",
       "      <td>581.232</td>\n",
       "      <td>1552261188</td>\n",
       "      <td>ask</td>\n",
       "      <td>581.232</td>\n",
       "    </tr>\n",
       "    <tr>\n",
       "      <th>1</th>\n",
       "      <td>0.27777</td>\n",
       "      <td>496.042</td>\n",
       "      <td>1552261185</td>\n",
       "      <td>ask</td>\n",
       "      <td>1077.274</td>\n",
       "    </tr>\n",
       "    <tr>\n",
       "      <th>2</th>\n",
       "      <td>0.27778</td>\n",
       "      <td>10000.000</td>\n",
       "      <td>1552261179</td>\n",
       "      <td>ask</td>\n",
       "      <td>11077.274</td>\n",
       "    </tr>\n",
       "    <tr>\n",
       "      <th>3</th>\n",
       "      <td>0.27779</td>\n",
       "      <td>7000.000</td>\n",
       "      <td>1552261184</td>\n",
       "      <td>ask</td>\n",
       "      <td>18077.274</td>\n",
       "    </tr>\n",
       "    <tr>\n",
       "      <th>4</th>\n",
       "      <td>0.27791</td>\n",
       "      <td>22570.460</td>\n",
       "      <td>1552261186</td>\n",
       "      <td>ask</td>\n",
       "      <td>40647.734</td>\n",
       "    </tr>\n",
       "  </tbody>\n",
       "</table>\n",
       "</div>"
      ],
      "text/plain": [
       "     price     volume   timestamp type  cumvolume\n",
       "0  0.27776    581.232  1552261188  ask    581.232\n",
       "1  0.27777    496.042  1552261185  ask   1077.274\n",
       "2  0.27778  10000.000  1552261179  ask  11077.274\n",
       "3  0.27779   7000.000  1552261184  ask  18077.274\n",
       "4  0.27791  22570.460  1552261186  ask  40647.734"
      ]
     },
     "execution_count": 54,
     "metadata": {},
     "output_type": "execute_result"
    }
   ],
   "source": [
    "ob = get_order_book('XXRPZEUR', 100)\n",
    "ob.head()"
   ]
  },
  {
   "cell_type": "code",
   "execution_count": 55,
   "metadata": {},
   "outputs": [],
   "source": [
    "ask_prices = ob.loc[ob['type'] == 'ask', 'price']\n",
    "ask_volumes = ob.loc[ob['type'] == 'ask', 'volume']\n",
    "ask_cumvolumes = ob.loc[ob['type'] == 'ask', 'cumvolume']\n",
    "bid_prices = ob.loc[ob['type'] == 'bid', 'price']\n",
    "bid_volumes = ob.loc[ob['type'] == 'bid', 'volume']\n",
    "bid_cumvolumes = ob.loc[ob['type'] == 'bid', 'cumvolume']"
   ]
  },
  {
   "cell_type": "code",
   "execution_count": 56,
   "metadata": {},
   "outputs": [
    {
     "data": {
      "image/png": "[encoded data removed]",
      "text/plain": [
       "<Figure size 432x288 with 1 Axes>"
      ]
     },
     "metadata": {
      "needs_background": "light"
     },
     "output_type": "display_data"
    }
   ],
   "source": [
    "plt.plot(ask_prices, ask_volumes)\n",
    "plt.plot(bid_prices, bid_volumes);"
   ]
  },
  {
   "cell_type": "code",
   "execution_count": 57,
   "metadata": {},
   "outputs": [
    {
     "data": {
      "image/png": "[encoded data removed]",
      "text/plain": [
       "<Figure size 432x288 with 1 Axes>"
      ]
     },
     "metadata": {
      "needs_background": "light"
     },
     "output_type": "display_data"
    }
   ],
   "source": [
    "plt.plot(ask_prices, ask_cumvolumes)\n",
    "plt.plot(bid_prices, bid_cumvolumes);"
   ]
  },
  {
   "cell_type": "code",
   "execution_count": null,
   "metadata": {},
   "outputs": [],
   "source": []
  },
  {
   "cell_type": "code",
   "execution_count": null,
   "metadata": {},
   "outputs": [],
   "source": []
  }
 ],
 "metadata": {
  "kernelspec": {
   "display_name": "Python 3",
   "language": "python",
   "name": "python3"
  },
  "language_info": {
   "codemirror_mode": {
    "name": "ipython",
    "version": 3
   },
   "file_extension": ".py",
   "mimetype": "text/x-python",
   "name": "python",
   "nbconvert_exporter": "python",
   "pygments_lexer": "ipython3",
   "version": "3.6.8"
  }
 },
 "nbformat": 4,
 "nbformat_minor": 2
}
